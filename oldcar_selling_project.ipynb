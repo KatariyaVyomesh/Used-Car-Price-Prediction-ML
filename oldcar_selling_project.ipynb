{
 "cells": [
  {
   "cell_type": "code",
   "execution_count": 1,
   "id": "a5f87d02-c560-4e38-b26e-f1c311d55b22",
   "metadata": {},
   "outputs": [],
   "source": [
    "import pandas as pd\n",
    "import seaborn as sns\n",
    "import matplotlib.pyplot as plt"
   ]
  },
  {
   "cell_type": "code",
   "execution_count": 2,
   "id": "56f17f7d-a61f-45c3-9f1b-b7af65f6bf5d",
   "metadata": {},
   "outputs": [],
   "source": [
    "data=pd.read_csv(r\"D:/Code/excel&csv/cardekho.csv\")"
   ]
  },
  {
   "cell_type": "code",
   "execution_count": 3,
   "id": "9e3ec0a1-0728-4de6-aead-e20dba0b846f",
   "metadata": {},
   "outputs": [],
   "source": [
    "# pd.set_option(\"display.max_rows\",6926)"
   ]
  },
  {
   "cell_type": "code",
   "execution_count": 4,
   "id": "89acaf67-21c9-4641-a477-62f9988baef6",
   "metadata": {},
   "outputs": [
    {
     "data": {
      "text/html": [
       "<div>\n",
       "<style scoped>\n",
       "    .dataframe tbody tr th:only-of-type {\n",
       "        vertical-align: middle;\n",
       "    }\n",
       "\n",
       "    .dataframe tbody tr th {\n",
       "        vertical-align: top;\n",
       "    }\n",
       "\n",
       "    .dataframe thead th {\n",
       "        text-align: right;\n",
       "    }\n",
       "</style>\n",
       "<table border=\"1\" class=\"dataframe\">\n",
       "  <thead>\n",
       "    <tr style=\"text-align: right;\">\n",
       "      <th></th>\n",
       "      <th>name</th>\n",
       "      <th>year</th>\n",
       "      <th>km_driven</th>\n",
       "      <th>fuel</th>\n",
       "      <th>seller_type</th>\n",
       "      <th>transmission</th>\n",
       "      <th>owner</th>\n",
       "      <th>mileage(km/ltr/kg)</th>\n",
       "      <th>engine</th>\n",
       "      <th>max_power</th>\n",
       "      <th>seats</th>\n",
       "      <th>selling_price</th>\n",
       "    </tr>\n",
       "  </thead>\n",
       "  <tbody>\n",
       "    <tr>\n",
       "      <th>0</th>\n",
       "      <td>Maruti Swift Dzire VDI</td>\n",
       "      <td>2014</td>\n",
       "      <td>145500</td>\n",
       "      <td>Diesel</td>\n",
       "      <td>Individual</td>\n",
       "      <td>Manual</td>\n",
       "      <td>First Owner</td>\n",
       "      <td>23.40</td>\n",
       "      <td>1248.0</td>\n",
       "      <td>74</td>\n",
       "      <td>5.0</td>\n",
       "      <td>450000</td>\n",
       "    </tr>\n",
       "    <tr>\n",
       "      <th>1</th>\n",
       "      <td>Skoda Rapid 1.5 TDI Ambition</td>\n",
       "      <td>2014</td>\n",
       "      <td>120000</td>\n",
       "      <td>Diesel</td>\n",
       "      <td>Individual</td>\n",
       "      <td>Manual</td>\n",
       "      <td>Second Owner</td>\n",
       "      <td>21.14</td>\n",
       "      <td>1498.0</td>\n",
       "      <td>103.52</td>\n",
       "      <td>5.0</td>\n",
       "      <td>370000</td>\n",
       "    </tr>\n",
       "    <tr>\n",
       "      <th>2</th>\n",
       "      <td>Honda City 2017-2020 EXi</td>\n",
       "      <td>2006</td>\n",
       "      <td>140000</td>\n",
       "      <td>Petrol</td>\n",
       "      <td>Individual</td>\n",
       "      <td>Manual</td>\n",
       "      <td>Third Owner</td>\n",
       "      <td>17.70</td>\n",
       "      <td>1497.0</td>\n",
       "      <td>78</td>\n",
       "      <td>5.0</td>\n",
       "      <td>158000</td>\n",
       "    </tr>\n",
       "    <tr>\n",
       "      <th>3</th>\n",
       "      <td>Hyundai i20 Sportz Diesel</td>\n",
       "      <td>2010</td>\n",
       "      <td>127000</td>\n",
       "      <td>Diesel</td>\n",
       "      <td>Individual</td>\n",
       "      <td>Manual</td>\n",
       "      <td>First Owner</td>\n",
       "      <td>23.00</td>\n",
       "      <td>1396.0</td>\n",
       "      <td>90</td>\n",
       "      <td>5.0</td>\n",
       "      <td>225000</td>\n",
       "    </tr>\n",
       "    <tr>\n",
       "      <th>4</th>\n",
       "      <td>Maruti Swift VXI BSIII</td>\n",
       "      <td>2007</td>\n",
       "      <td>120000</td>\n",
       "      <td>Petrol</td>\n",
       "      <td>Individual</td>\n",
       "      <td>Manual</td>\n",
       "      <td>First Owner</td>\n",
       "      <td>16.10</td>\n",
       "      <td>1298.0</td>\n",
       "      <td>88.2</td>\n",
       "      <td>5.0</td>\n",
       "      <td>130000</td>\n",
       "    </tr>\n",
       "    <tr>\n",
       "      <th>...</th>\n",
       "      <td>...</td>\n",
       "      <td>...</td>\n",
       "      <td>...</td>\n",
       "      <td>...</td>\n",
       "      <td>...</td>\n",
       "      <td>...</td>\n",
       "      <td>...</td>\n",
       "      <td>...</td>\n",
       "      <td>...</td>\n",
       "      <td>...</td>\n",
       "      <td>...</td>\n",
       "      <td>...</td>\n",
       "    </tr>\n",
       "    <tr>\n",
       "      <th>8123</th>\n",
       "      <td>Hyundai i20 Magna</td>\n",
       "      <td>2013</td>\n",
       "      <td>110000</td>\n",
       "      <td>Petrol</td>\n",
       "      <td>Individual</td>\n",
       "      <td>Manual</td>\n",
       "      <td>First Owner</td>\n",
       "      <td>18.50</td>\n",
       "      <td>1197.0</td>\n",
       "      <td>82.85</td>\n",
       "      <td>5.0</td>\n",
       "      <td>320000</td>\n",
       "    </tr>\n",
       "    <tr>\n",
       "      <th>8124</th>\n",
       "      <td>Hyundai Verna CRDi SX</td>\n",
       "      <td>2007</td>\n",
       "      <td>119000</td>\n",
       "      <td>Diesel</td>\n",
       "      <td>Individual</td>\n",
       "      <td>Manual</td>\n",
       "      <td>Fourth &amp; Above Owner</td>\n",
       "      <td>16.80</td>\n",
       "      <td>1493.0</td>\n",
       "      <td>110</td>\n",
       "      <td>5.0</td>\n",
       "      <td>135000</td>\n",
       "    </tr>\n",
       "    <tr>\n",
       "      <th>8125</th>\n",
       "      <td>Maruti Swift Dzire ZDi</td>\n",
       "      <td>2009</td>\n",
       "      <td>120000</td>\n",
       "      <td>Diesel</td>\n",
       "      <td>Individual</td>\n",
       "      <td>Manual</td>\n",
       "      <td>First Owner</td>\n",
       "      <td>19.30</td>\n",
       "      <td>1248.0</td>\n",
       "      <td>73.9</td>\n",
       "      <td>5.0</td>\n",
       "      <td>382000</td>\n",
       "    </tr>\n",
       "    <tr>\n",
       "      <th>8126</th>\n",
       "      <td>Tata Indigo CR4</td>\n",
       "      <td>2013</td>\n",
       "      <td>25000</td>\n",
       "      <td>Diesel</td>\n",
       "      <td>Individual</td>\n",
       "      <td>Manual</td>\n",
       "      <td>First Owner</td>\n",
       "      <td>23.57</td>\n",
       "      <td>1396.0</td>\n",
       "      <td>70</td>\n",
       "      <td>5.0</td>\n",
       "      <td>290000</td>\n",
       "    </tr>\n",
       "    <tr>\n",
       "      <th>8127</th>\n",
       "      <td>Tata Indigo CR4</td>\n",
       "      <td>2013</td>\n",
       "      <td>25000</td>\n",
       "      <td>Diesel</td>\n",
       "      <td>Individual</td>\n",
       "      <td>Manual</td>\n",
       "      <td>First Owner</td>\n",
       "      <td>23.57</td>\n",
       "      <td>1396.0</td>\n",
       "      <td>70</td>\n",
       "      <td>5.0</td>\n",
       "      <td>290000</td>\n",
       "    </tr>\n",
       "  </tbody>\n",
       "</table>\n",
       "<p>8128 rows × 12 columns</p>\n",
       "</div>"
      ],
      "text/plain": [
       "                              name  year  km_driven    fuel seller_type  \\\n",
       "0           Maruti Swift Dzire VDI  2014     145500  Diesel  Individual   \n",
       "1     Skoda Rapid 1.5 TDI Ambition  2014     120000  Diesel  Individual   \n",
       "2         Honda City 2017-2020 EXi  2006     140000  Petrol  Individual   \n",
       "3        Hyundai i20 Sportz Diesel  2010     127000  Diesel  Individual   \n",
       "4           Maruti Swift VXI BSIII  2007     120000  Petrol  Individual   \n",
       "...                            ...   ...        ...     ...         ...   \n",
       "8123             Hyundai i20 Magna  2013     110000  Petrol  Individual   \n",
       "8124         Hyundai Verna CRDi SX  2007     119000  Diesel  Individual   \n",
       "8125        Maruti Swift Dzire ZDi  2009     120000  Diesel  Individual   \n",
       "8126               Tata Indigo CR4  2013      25000  Diesel  Individual   \n",
       "8127               Tata Indigo CR4  2013      25000  Diesel  Individual   \n",
       "\n",
       "     transmission                 owner  mileage(km/ltr/kg)  engine max_power  \\\n",
       "0          Manual           First Owner               23.40  1248.0        74   \n",
       "1          Manual          Second Owner               21.14  1498.0    103.52   \n",
       "2          Manual           Third Owner               17.70  1497.0        78   \n",
       "3          Manual           First Owner               23.00  1396.0        90   \n",
       "4          Manual           First Owner               16.10  1298.0      88.2   \n",
       "...           ...                   ...                 ...     ...       ...   \n",
       "8123       Manual           First Owner               18.50  1197.0     82.85   \n",
       "8124       Manual  Fourth & Above Owner               16.80  1493.0       110   \n",
       "8125       Manual           First Owner               19.30  1248.0      73.9   \n",
       "8126       Manual           First Owner               23.57  1396.0        70   \n",
       "8127       Manual           First Owner               23.57  1396.0        70   \n",
       "\n",
       "      seats  selling_price  \n",
       "0       5.0         450000  \n",
       "1       5.0         370000  \n",
       "2       5.0         158000  \n",
       "3       5.0         225000  \n",
       "4       5.0         130000  \n",
       "...     ...            ...  \n",
       "8123    5.0         320000  \n",
       "8124    5.0         135000  \n",
       "8125    5.0         382000  \n",
       "8126    5.0         290000  \n",
       "8127    5.0         290000  \n",
       "\n",
       "[8128 rows x 12 columns]"
      ]
     },
     "execution_count": 4,
     "metadata": {},
     "output_type": "execute_result"
    }
   ],
   "source": [
    "data"
   ]
  },
  {
   "cell_type": "code",
   "execution_count": 5,
   "id": "9ee5dc92-0ae0-4010-a03b-8438dab3c71e",
   "metadata": {},
   "outputs": [
    {
     "data": {
      "text/plain": [
       "name                    0\n",
       "year                    0\n",
       "km_driven               0\n",
       "fuel                    0\n",
       "seller_type             0\n",
       "transmission            0\n",
       "owner                   0\n",
       "mileage(km/ltr/kg)    221\n",
       "engine                221\n",
       "max_power             215\n",
       "seats                 221\n",
       "selling_price           0\n",
       "dtype: int64"
      ]
     },
     "execution_count": 5,
     "metadata": {},
     "output_type": "execute_result"
    }
   ],
   "source": [
    "data.isnull().sum()"
   ]
  },
  {
   "cell_type": "code",
   "execution_count": 6,
   "id": "0306f261-e378-40d7-83e7-a12e1ff026ae",
   "metadata": {},
   "outputs": [],
   "source": [
    "data.drop_duplicates(inplace=True)"
   ]
  },
  {
   "cell_type": "code",
   "execution_count": 7,
   "id": "e9f87279-6de2-4f97-a76c-0bffe7f3c57d",
   "metadata": {},
   "outputs": [
    {
     "data": {
      "text/plain": [
       "(6926, 12)"
      ]
     },
     "execution_count": 7,
     "metadata": {},
     "output_type": "execute_result"
    }
   ],
   "source": [
    "data.shape"
   ]
  },
  {
   "cell_type": "code",
   "execution_count": 8,
   "id": "66a5de43-c29e-4d78-a2c4-c6e322d79514",
   "metadata": {},
   "outputs": [
    {
     "data": {
      "text/plain": [
       "name                    0\n",
       "year                    0\n",
       "km_driven               0\n",
       "fuel                    0\n",
       "seller_type             0\n",
       "transmission            0\n",
       "owner                   0\n",
       "mileage(km/ltr/kg)    208\n",
       "engine                208\n",
       "max_power             205\n",
       "seats                 208\n",
       "selling_price           0\n",
       "dtype: int64"
      ]
     },
     "execution_count": 8,
     "metadata": {},
     "output_type": "execute_result"
    }
   ],
   "source": [
    "data.isnull().sum()"
   ]
  },
  {
   "cell_type": "code",
   "execution_count": 9,
   "id": "1ced0331-d809-4c8a-97fa-4feb60125e67",
   "metadata": {},
   "outputs": [
    {
     "name": "stdout",
     "output_type": "stream",
     "text": [
      "<class 'pandas.core.frame.DataFrame'>\n",
      "Index: 6926 entries, 0 to 8125\n",
      "Data columns (total 12 columns):\n",
      " #   Column              Non-Null Count  Dtype  \n",
      "---  ------              --------------  -----  \n",
      " 0   name                6926 non-null   object \n",
      " 1   year                6926 non-null   int64  \n",
      " 2   km_driven           6926 non-null   int64  \n",
      " 3   fuel                6926 non-null   object \n",
      " 4   seller_type         6926 non-null   object \n",
      " 5   transmission        6926 non-null   object \n",
      " 6   owner               6926 non-null   object \n",
      " 7   mileage(km/ltr/kg)  6718 non-null   float64\n",
      " 8   engine              6718 non-null   float64\n",
      " 9   max_power           6721 non-null   object \n",
      " 10  seats               6718 non-null   float64\n",
      " 11  selling_price       6926 non-null   int64  \n",
      "dtypes: float64(3), int64(3), object(6)\n",
      "memory usage: 703.4+ KB\n"
     ]
    }
   ],
   "source": [
    "data.info()"
   ]
  },
  {
   "cell_type": "code",
   "execution_count": 10,
   "id": "6d04250b-04bc-48df-94d8-d3910d1bfab6",
   "metadata": {},
   "outputs": [
    {
     "name": "stdout",
     "output_type": "stream",
     "text": [
      "<class 'pandas.core.frame.DataFrame'>\n",
      "Index: 6926 entries, 0 to 8125\n",
      "Data columns (total 12 columns):\n",
      " #   Column              Non-Null Count  Dtype  \n",
      "---  ------              --------------  -----  \n",
      " 0   name                6926 non-null   object \n",
      " 1   year                6926 non-null   int64  \n",
      " 2   km_driven           6926 non-null   int64  \n",
      " 3   fuel                6926 non-null   object \n",
      " 4   seller_type         6926 non-null   object \n",
      " 5   transmission        6926 non-null   object \n",
      " 6   owner               6926 non-null   object \n",
      " 7   mileage(km/ltr/kg)  6718 non-null   float64\n",
      " 8   engine              6718 non-null   float64\n",
      " 9   max_power           6720 non-null   float64\n",
      " 10  seats               6718 non-null   float64\n",
      " 11  selling_price       6926 non-null   int64  \n",
      "dtypes: float64(4), int64(3), object(5)\n",
      "memory usage: 703.4+ KB\n"
     ]
    }
   ],
   "source": [
    "data['max_power'] = data['max_power'].replace(r'^\\s*$', pd.NA, regex=True)\n",
    "data['max_power'] = pd.to_numeric(data['max_power'], errors='coerce')\n",
    "data[\"max_power\"]=data[\"max_power\"].astype('float64')\n",
    "data.info()"
   ]
  },
  {
   "cell_type": "code",
   "execution_count": 11,
   "id": "cd0d03f9-8cbb-479f-a029-830c5188d0af",
   "metadata": {},
   "outputs": [
    {
     "data": {
      "text/plain": [
       "name                    0\n",
       "year                    0\n",
       "km_driven               0\n",
       "fuel                    0\n",
       "seller_type             0\n",
       "transmission            0\n",
       "owner                   0\n",
       "mileage(km/ltr/kg)    208\n",
       "engine                208\n",
       "max_power             206\n",
       "seats                 208\n",
       "selling_price           0\n",
       "dtype: int64"
      ]
     },
     "execution_count": 11,
     "metadata": {},
     "output_type": "execute_result"
    }
   ],
   "source": [
    "data.isnull().sum()"
   ]
  },
  {
   "cell_type": "code",
   "execution_count": 12,
   "id": "76d93c4f-758b-41df-a289-6ebc9d28b5a3",
   "metadata": {},
   "outputs": [
    {
     "name": "stderr",
     "output_type": "stream",
     "text": [
      "C:\\Users\\NKIT\\AppData\\Local\\Temp\\ipykernel_4200\\2853227329.py:2: FutureWarning: A value is trying to be set on a copy of a DataFrame or Series through chained assignment using an inplace method.\n",
      "The behavior will change in pandas 3.0. This inplace method will never work because the intermediate object on which we are setting values always behaves as a copy.\n",
      "\n",
      "For example, when doing 'df[col].method(value, inplace=True)', try using 'df.method({col: value}, inplace=True)' or df[col] = df[col].method(value) instead, to perform the operation inplace on the original object.\n",
      "\n",
      "\n",
      "  data[i].fillna(data[i].mean(),inplace=True)\n"
     ]
    }
   ],
   "source": [
    "for i in data.select_dtypes(include=\"float64\").columns:\n",
    "    data[i].fillna(data[i].mean(),inplace=True)"
   ]
  },
  {
   "cell_type": "code",
   "execution_count": 13,
   "id": "90b17510-2018-4e6c-9bf4-71a183ffa2b5",
   "metadata": {},
   "outputs": [
    {
     "data": {
      "text/plain": [
       "name                  0\n",
       "year                  0\n",
       "km_driven             0\n",
       "fuel                  0\n",
       "seller_type           0\n",
       "transmission          0\n",
       "owner                 0\n",
       "mileage(km/ltr/kg)    0\n",
       "engine                0\n",
       "max_power             0\n",
       "seats                 0\n",
       "selling_price         0\n",
       "dtype: int64"
      ]
     },
     "execution_count": 13,
     "metadata": {},
     "output_type": "execute_result"
    }
   ],
   "source": [
    "data.isnull().sum()"
   ]
  },
  {
   "cell_type": "code",
   "execution_count": 14,
   "id": "8cd102d1-e2c4-4eda-806a-72af81366aa3",
   "metadata": {},
   "outputs": [
    {
     "data": {
      "text/plain": [
       "(6926, 12)"
      ]
     },
     "execution_count": 14,
     "metadata": {},
     "output_type": "execute_result"
    }
   ],
   "source": [
    "data.shape"
   ]
  },
  {
   "cell_type": "code",
   "execution_count": 15,
   "id": "1895764f-f404-4b80-aa3d-9232be57a3e2",
   "metadata": {},
   "outputs": [],
   "source": [
    "from sklearn.preprocessing import LabelEncoder"
   ]
  },
  {
   "cell_type": "code",
   "execution_count": 16,
   "id": "b06bfd85-0e33-4ee8-a6c4-a193dd702962",
   "metadata": {},
   "outputs": [],
   "source": [
    "le=LabelEncoder()\n",
    "data[\"name\"]=le.fit_transform(data[\"name\"])"
   ]
  },
  {
   "cell_type": "code",
   "execution_count": 17,
   "id": "d9f9a041-f0fc-4c40-a56c-a4d5f3ad51c6",
   "metadata": {},
   "outputs": [
    {
     "data": {
      "text/plain": [
       "array(['Manual', 'Automatic'], dtype=object)"
      ]
     },
     "execution_count": 17,
     "metadata": {},
     "output_type": "execute_result"
    }
   ],
   "source": [
    "data[\"transmission\"].unique()"
   ]
  },
  {
   "cell_type": "code",
   "execution_count": 18,
   "id": "87e760aa-80af-49e4-a88e-561bb5aa2bc6",
   "metadata": {},
   "outputs": [],
   "source": [
    "from sklearn.preprocessing import OrdinalEncoder"
   ]
  },
  {
   "cell_type": "code",
   "execution_count": 19,
   "id": "02343d34-448c-4c62-999a-a365d57e465b",
   "metadata": {},
   "outputs": [],
   "source": [
    "data[\"fuel\"]=le.fit_transform(data[\"fuel\"])"
   ]
  },
  {
   "cell_type": "code",
   "execution_count": 20,
   "id": "330beb27-834a-4ce4-bec1-038562fecd2c",
   "metadata": {},
   "outputs": [],
   "source": [
    "data[\"seller_type\"]=le.fit_transform(data[\"seller_type\"])"
   ]
  },
  {
   "cell_type": "code",
   "execution_count": 21,
   "id": "6ba761e8-09fa-4fbe-9904-5c19451d4b86",
   "metadata": {},
   "outputs": [],
   "source": [
    "data[\"transmission\"]=le.fit_transform(data[\"transmission\"])\n",
    "data[\"owner\"]=le.fit_transform(data[\"owner\"])"
   ]
  },
  {
   "cell_type": "code",
   "execution_count": 22,
   "id": "15e4f6d3-33e1-497f-a91f-305b0270aeef",
   "metadata": {},
   "outputs": [],
   "source": [
    "input=data.iloc[:,:-1]\n",
    "output=data[\"selling_price\"]"
   ]
  },
  {
   "cell_type": "code",
   "execution_count": 23,
   "id": "6ec27515-1bd4-4044-b164-11f389abfa61",
   "metadata": {},
   "outputs": [],
   "source": [
    "from sklearn.preprocessing import StandardScaler "
   ]
  },
  {
   "cell_type": "code",
   "execution_count": 24,
   "id": "388cca1a-2a6f-4d52-b312-bedf233dc465",
   "metadata": {},
   "outputs": [],
   "source": [
    "sc=StandardScaler()\n",
    "sc.fit(input)\n",
    "array=sc.transform(input)\n",
    "input=pd.DataFrame(array,columns=input.columns)"
   ]
  },
  {
   "cell_type": "code",
   "execution_count": 25,
   "id": "c3d01986-b4df-4ac2-a219-c67c92601ca0",
   "metadata": {},
   "outputs": [
    {
     "data": {
      "text/html": [
       "<div>\n",
       "<style scoped>\n",
       "    .dataframe tbody tr th:only-of-type {\n",
       "        vertical-align: middle;\n",
       "    }\n",
       "\n",
       "    .dataframe tbody tr th {\n",
       "        vertical-align: top;\n",
       "    }\n",
       "\n",
       "    .dataframe thead th {\n",
       "        text-align: right;\n",
       "    }\n",
       "</style>\n",
       "<table border=\"1\" class=\"dataframe\">\n",
       "  <thead>\n",
       "    <tr style=\"text-align: right;\">\n",
       "      <th></th>\n",
       "      <th>name</th>\n",
       "      <th>year</th>\n",
       "      <th>km_driven</th>\n",
       "      <th>fuel</th>\n",
       "      <th>seller_type</th>\n",
       "      <th>transmission</th>\n",
       "      <th>owner</th>\n",
       "      <th>mileage(km/ltr/kg)</th>\n",
       "      <th>engine</th>\n",
       "      <th>max_power</th>\n",
       "      <th>seats</th>\n",
       "    </tr>\n",
       "  </thead>\n",
       "  <tbody>\n",
       "    <tr>\n",
       "      <th>0</th>\n",
       "      <td>0.473964</td>\n",
       "      <td>0.142153</td>\n",
       "      <td>1.225357</td>\n",
       "      <td>-0.883397</td>\n",
       "      <td>0.309128</td>\n",
       "      <td>0.303454</td>\n",
       "      <td>-0.719060</td>\n",
       "      <td>0.986734</td>\n",
       "      <td>-0.376327</td>\n",
       "      <td>-0.438655</td>\n",
       "      <td>-0.448435</td>\n",
       "    </tr>\n",
       "    <tr>\n",
       "      <th>1</th>\n",
       "      <td>1.033290</td>\n",
       "      <td>0.142153</td>\n",
       "      <td>0.788368</td>\n",
       "      <td>-0.883397</td>\n",
       "      <td>0.309128</td>\n",
       "      <td>0.303454</td>\n",
       "      <td>0.868005</td>\n",
       "      <td>0.419976</td>\n",
       "      <td>0.138086</td>\n",
       "      <td>0.504680</td>\n",
       "      <td>-0.448435</td>\n",
       "    </tr>\n",
       "    <tr>\n",
       "      <th>2</th>\n",
       "      <td>-1.245031</td>\n",
       "      <td>-1.819597</td>\n",
       "      <td>1.131104</td>\n",
       "      <td>1.110869</td>\n",
       "      <td>0.309128</td>\n",
       "      <td>0.303454</td>\n",
       "      <td>2.455070</td>\n",
       "      <td>-0.442701</td>\n",
       "      <td>0.136029</td>\n",
       "      <td>-0.310831</td>\n",
       "      <td>-0.448435</td>\n",
       "    </tr>\n",
       "    <tr>\n",
       "      <th>3</th>\n",
       "      <td>-0.506721</td>\n",
       "      <td>-0.838722</td>\n",
       "      <td>0.908326</td>\n",
       "      <td>-0.883397</td>\n",
       "      <td>0.309128</td>\n",
       "      <td>0.303454</td>\n",
       "      <td>-0.719060</td>\n",
       "      <td>0.886423</td>\n",
       "      <td>-0.071794</td>\n",
       "      <td>0.072638</td>\n",
       "      <td>-0.448435</td>\n",
       "    </tr>\n",
       "    <tr>\n",
       "      <th>4</th>\n",
       "      <td>0.552269</td>\n",
       "      <td>-1.574378</td>\n",
       "      <td>0.788368</td>\n",
       "      <td>1.110869</td>\n",
       "      <td>0.309128</td>\n",
       "      <td>0.303454</td>\n",
       "      <td>-0.719060</td>\n",
       "      <td>-0.843946</td>\n",
       "      <td>-0.273444</td>\n",
       "      <td>0.015118</td>\n",
       "      <td>-0.448435</td>\n",
       "    </tr>\n",
       "    <tr>\n",
       "      <th>...</th>\n",
       "      <td>...</td>\n",
       "      <td>...</td>\n",
       "      <td>...</td>\n",
       "      <td>...</td>\n",
       "      <td>...</td>\n",
       "      <td>...</td>\n",
       "      <td>...</td>\n",
       "      <td>...</td>\n",
       "      <td>...</td>\n",
       "      <td>...</td>\n",
       "      <td>...</td>\n",
       "    </tr>\n",
       "    <tr>\n",
       "      <th>6921</th>\n",
       "      <td>0.664135</td>\n",
       "      <td>-0.103066</td>\n",
       "      <td>-0.411210</td>\n",
       "      <td>1.110869</td>\n",
       "      <td>0.309128</td>\n",
       "      <td>0.303454</td>\n",
       "      <td>0.868005</td>\n",
       "      <td>-0.141767</td>\n",
       "      <td>-0.890741</td>\n",
       "      <td>-0.659150</td>\n",
       "      <td>-0.448435</td>\n",
       "    </tr>\n",
       "    <tr>\n",
       "      <th>6922</th>\n",
       "      <td>-0.521636</td>\n",
       "      <td>0.142153</td>\n",
       "      <td>0.102895</td>\n",
       "      <td>-0.883397</td>\n",
       "      <td>0.309128</td>\n",
       "      <td>0.303454</td>\n",
       "      <td>0.868005</td>\n",
       "      <td>0.771065</td>\n",
       "      <td>-0.071794</td>\n",
       "      <td>0.032054</td>\n",
       "      <td>-0.448435</td>\n",
       "    </tr>\n",
       "    <tr>\n",
       "      <th>6923</th>\n",
       "      <td>-0.525365</td>\n",
       "      <td>-0.103066</td>\n",
       "      <td>0.617000</td>\n",
       "      <td>1.110869</td>\n",
       "      <td>0.309128</td>\n",
       "      <td>0.303454</td>\n",
       "      <td>-0.719060</td>\n",
       "      <td>-0.242079</td>\n",
       "      <td>-0.481267</td>\n",
       "      <td>-0.155846</td>\n",
       "      <td>-0.448435</td>\n",
       "    </tr>\n",
       "    <tr>\n",
       "      <th>6924</th>\n",
       "      <td>-0.739773</td>\n",
       "      <td>-1.574378</td>\n",
       "      <td>0.771231</td>\n",
       "      <td>-0.883397</td>\n",
       "      <td>0.309128</td>\n",
       "      <td>0.303454</td>\n",
       "      <td>0.074472</td>\n",
       "      <td>-0.668401</td>\n",
       "      <td>0.127798</td>\n",
       "      <td>0.711754</td>\n",
       "      <td>-0.448435</td>\n",
       "    </tr>\n",
       "    <tr>\n",
       "      <th>6925</th>\n",
       "      <td>0.496337</td>\n",
       "      <td>-1.083940</td>\n",
       "      <td>0.788368</td>\n",
       "      <td>-0.883397</td>\n",
       "      <td>0.309128</td>\n",
       "      <td>0.303454</td>\n",
       "      <td>-0.719060</td>\n",
       "      <td>-0.041456</td>\n",
       "      <td>-0.376327</td>\n",
       "      <td>-0.441850</td>\n",
       "      <td>-0.448435</td>\n",
       "    </tr>\n",
       "  </tbody>\n",
       "</table>\n",
       "<p>6926 rows × 11 columns</p>\n",
       "</div>"
      ],
      "text/plain": [
       "          name      year  km_driven      fuel  seller_type  transmission  \\\n",
       "0     0.473964  0.142153   1.225357 -0.883397     0.309128      0.303454   \n",
       "1     1.033290  0.142153   0.788368 -0.883397     0.309128      0.303454   \n",
       "2    -1.245031 -1.819597   1.131104  1.110869     0.309128      0.303454   \n",
       "3    -0.506721 -0.838722   0.908326 -0.883397     0.309128      0.303454   \n",
       "4     0.552269 -1.574378   0.788368  1.110869     0.309128      0.303454   \n",
       "...        ...       ...        ...       ...          ...           ...   \n",
       "6921  0.664135 -0.103066  -0.411210  1.110869     0.309128      0.303454   \n",
       "6922 -0.521636  0.142153   0.102895 -0.883397     0.309128      0.303454   \n",
       "6923 -0.525365 -0.103066   0.617000  1.110869     0.309128      0.303454   \n",
       "6924 -0.739773 -1.574378   0.771231 -0.883397     0.309128      0.303454   \n",
       "6925  0.496337 -1.083940   0.788368 -0.883397     0.309128      0.303454   \n",
       "\n",
       "         owner  mileage(km/ltr/kg)    engine  max_power     seats  \n",
       "0    -0.719060            0.986734 -0.376327  -0.438655 -0.448435  \n",
       "1     0.868005            0.419976  0.138086   0.504680 -0.448435  \n",
       "2     2.455070           -0.442701  0.136029  -0.310831 -0.448435  \n",
       "3    -0.719060            0.886423 -0.071794   0.072638 -0.448435  \n",
       "4    -0.719060           -0.843946 -0.273444   0.015118 -0.448435  \n",
       "...        ...                 ...       ...        ...       ...  \n",
       "6921  0.868005           -0.141767 -0.890741  -0.659150 -0.448435  \n",
       "6922  0.868005            0.771065 -0.071794   0.032054 -0.448435  \n",
       "6923 -0.719060           -0.242079 -0.481267  -0.155846 -0.448435  \n",
       "6924  0.074472           -0.668401  0.127798   0.711754 -0.448435  \n",
       "6925 -0.719060           -0.041456 -0.376327  -0.441850 -0.448435  \n",
       "\n",
       "[6926 rows x 11 columns]"
      ]
     },
     "execution_count": 25,
     "metadata": {},
     "output_type": "execute_result"
    }
   ],
   "source": [
    "input"
   ]
  },
  {
   "cell_type": "code",
   "execution_count": 26,
   "id": "9052c8bc-9272-4f43-84a6-1ea25ddfe99a",
   "metadata": {},
   "outputs": [],
   "source": [
    "from sklearn.model_selection import train_test_split\n",
    "x_train,x_test,y_train,y_test=train_test_split(input,output,test_size=0.2,random_state=42)"
   ]
  },
  {
   "cell_type": "code",
   "execution_count": 27,
   "id": "53647834-53c8-4ce3-90ee-6824b7b5f908",
   "metadata": {},
   "outputs": [
    {
     "data": {
      "text/plain": [
       "<Figure size 1000x600 with 0 Axes>"
      ]
     },
     "metadata": {},
     "output_type": "display_data"
    },
    {
     "data": {
      "image/png": "[encoded data removed]",
      "text/plain": [
       "<Figure size 500x500 with 1 Axes>"
      ]
     },
     "metadata": {},
     "output_type": "display_data"
    },
    {
     "data": {
      "image/png": "[encoded data removed]",
      "text/plain": [
       "<Figure size 500x500 with 1 Axes>"
      ]
     },
     "metadata": {},
     "output_type": "display_data"
    },
    {
     "data": {
      "image/png": "[encoded data removed]",
      "text/plain": [
       "<Figure size 500x500 with 1 Axes>"
      ]
     },
     "metadata": {},
     "output_type": "display_data"
    }
   ],
   "source": [
    "plt.figure(figsize=(10,6))\n",
    "# plt.subplot(1,3,1)\n",
    "sns.displot(data[\"engine\"])\n",
    "plt.show()\n",
    "# plt.subplot(1,3,2)\n",
    "sns.displot(data[\"max_power\"])\n",
    "plt.show()\n",
    "# plt.subplot(1,3,3)\n",
    "\n",
    "sns.displot(data[\"seats\"])\n",
    "plt.show()\n"
   ]
  },
  {
   "cell_type": "code",
   "execution_count": 28,
   "id": "e67c05cb-c618-405e-b457-a7fa02ee09e8",
   "metadata": {
    "scrolled": true
   },
   "outputs": [
    {
     "name": "stdout",
     "output_type": "stream",
     "text": [
      "LinearRegression : [0.36073503 0.47815801 0.54868226 0.55004758 0.55991312 0.57459876\n",
      " 0.58205397 0.58898987 0.60809912 0.62682181]\n",
      "DecisionTreeRegressor : [0.68883251 0.69688365 0.73374543 0.74634847 0.77593353 0.77655263\n",
      " 0.8014635  0.81570041 0.86362976 0.91613465]\n",
      "SVR : [-0.06508186 -0.06168197 -0.06036983 -0.05992705 -0.05939226 -0.0561557\n",
      " -0.03210031 -0.02934074 -0.02065503 -0.00120318]\n",
      "RandomForestRegressor : [0.57734781 0.79015089 0.79234203 0.80251022 0.81504072 0.82095151\n",
      " 0.85425456 0.86050938 0.86305151 0.88823257]\n",
      "BaggingRegressor : [0.66050565 0.78592415 0.79419045 0.79870122 0.79982996 0.82189639\n",
      " 0.84537038 0.85566619 0.87764067 0.88001519]\n",
      "LogisticRegression : [0.01449275 0.03623188 0.03623188 0.04316547 0.05035971 0.05035971\n",
      " 0.07194245 0.07194245 0.07971014 0.09352518]\n",
      "Lasso : [0.36074783 0.47815996 0.54868205 0.55004915 0.5599151  0.57460055\n",
      " 0.58205271 0.58898915 0.60810037 0.62682421]\n",
      "KNeighborsRegressor : [0.53445887 0.57851841 0.64794417 0.66314744 0.69539251 0.70363472\n",
      " 0.73899011 0.74063018 0.75578619 0.81889428]\n"
     ]
    }
   ],
   "source": [
    "from sklearn.model_selection import cross_val_score, KFold\n",
    "from sklearn.linear_model import LinearRegression, LogisticRegression, Lasso\n",
    "from sklearn.tree import DecisionTreeRegressor\n",
    "from sklearn.svm import SVR\n",
    "from sklearn.ensemble import RandomForestRegressor, BaggingRegressor\n",
    "from sklearn.neighbors import KNeighborsRegressor\n",
    "import numpy as np\n",
    "\n",
    "# Define your models\n",
    "models = [\n",
    "    LinearRegression(),\n",
    "    DecisionTreeRegressor(),\n",
    "    SVR(),\n",
    "    RandomForestRegressor(),\n",
    "    BaggingRegressor(),\n",
    "    LogisticRegression(max_iter=1000),  # Increase max_iter for convergence\n",
    "    Lasso(),\n",
    "    KNeighborsRegressor()\n",
    "]\n",
    "\n",
    "# Assuming x_test and y_test are already defined\n",
    "for model in models:\n",
    "    # Perform cross-validation\n",
    "    cvs = cross_val_score(model, x_test, y_test, cv=KFold(n_splits=10))\n",
    "    print(model.__class__.__name__, \":\", np.sort(cvs))\n"
   ]
  },
  {
   "cell_type": "code",
   "execution_count": 29,
   "id": "6b3eae4c-03f6-437c-90ab-3d9d8baf4988",
   "metadata": {},
   "outputs": [
    {
     "name": "stdout",
     "output_type": "stream",
     "text": [
      "Best Parameters: {'max_depth': 20, 'min_samples_leaf': 1, 'min_samples_split': 2, 'n_estimators': 200}\n",
      "Best Cross-Validation Score: 0.887632999823461\n"
     ]
    }
   ],
   "source": [
    "from sklearn.ensemble import RandomForestRegressor\n",
    "from sklearn.model_selection import GridSearchCV\n",
    "\n",
    "# Define the model\n",
    "model = RandomForestRegressor()\n",
    "\n",
    "# Define the hyperparameters and their values to search\n",
    "param_grid = {\n",
    "    'n_estimators': [50, 100, 200],\n",
    "    'max_depth': [None, 10, 20, 30],\n",
    "    'min_samples_split': [2, 5, 10],\n",
    "    'min_samples_leaf': [1, 2, 4]\n",
    "}\n",
    "\n",
    "# Setup the GridSearchCV\n",
    "grid_search = GridSearchCV(estimator=model, param_grid=param_grid, \n",
    "                           cv=5, scoring='r2', n_jobs=-1)\n",
    "\n",
    "# Fit the model to the data (use your training data instead of x_test and y_test)\n",
    "grid_search.fit(x_train, y_train)\n",
    "\n",
    "# Get the best parameters and best score\n",
    "best_params = grid_search.best_params_\n",
    "best_score = grid_search.best_score_\n",
    "\n",
    "print(\"Best Parameters:\", best_params)\n",
    "print(\"Best Cross-Validation Score:\", best_score)"
   ]
  },
  {
   "cell_type": "code",
   "execution_count": 34,
   "id": "f955bdd5-c056-4f4f-850f-816d555c0d4c",
   "metadata": {},
   "outputs": [
    {
     "data": {
      "text/plain": [
       "(98.66039004688535, 92.81585733916552)"
      ]
     },
     "execution_count": 34,
     "metadata": {},
     "output_type": "execute_result"
    }
   ],
   "source": [
    "model=RandomForestRegressor(n_estimators=200,max_depth=20,min_samples_leaf=1,min_samples_split=2)\n",
    "model.fit(x_train,y_train)\n",
    "model.score(x_train,y_train)*100,model.score(x_test,y_test)*100"
   ]
  },
  {
   "cell_type": "code",
   "execution_count": null,
   "id": "efd239c7-e885-472c-aac4-8a8d2e273beb",
   "metadata": {},
   "outputs": [],
   "source": []
  },
  {
   "cell_type": "code",
   "execution_count": 35,
   "id": "affa35f5-94b0-40bc-aaa8-08afa91c550d",
   "metadata": {},
   "outputs": [
    {
     "data": {
      "image/png": "[encoded data removed]",
      "text/plain": [
       "<Figure size 640x480 with 1 Axes>"
      ]
     },
     "metadata": {},
     "output_type": "display_data"
    }
   ],
   "source": [
    "import matplotlib.pyplot as plt\n",
    "\n",
    "plt.scatter(y_test, predictions)\n",
    "plt.xlabel(\"Actual Values\")\n",
    "plt.ylabel(\"Predicted Values\")\n",
    "plt.title(\"Actual vs Predicted Values\")\n",
    "plt.show()\n"
   ]
  },
  {
   "cell_type": "code",
   "execution_count": 36,
   "id": "be1e5601-8533-4503-b540-c2dd99c17040",
   "metadata": {},
   "outputs": [
    {
     "name": "stderr",
     "output_type": "stream",
     "text": [
      "C:\\Users\\NKIT\\AppData\\Local\\Programs\\Python\\Python312\\Lib\\site-packages\\sklearn\\base.py:493: UserWarning: X does not have valid feature names, but RandomForestRegressor was fitted with feature names\n",
      "  warnings.warn(\n"
     ]
    },
    {
     "data": {
      "text/plain": [
       "array([477972.34086105])"
      ]
     },
     "execution_count": 36,
     "metadata": {},
     "output_type": "execute_result"
    }
   ],
   "source": [
    "model.predict([[0.473964,0.142153,1.225357,-0.883397,0.309128,0.303454,-0.719060,0.986734,-0.376327,-0.438655,-0.448435]])"
   ]
  },
  {
   "cell_type": "code",
   "execution_count": null,
   "id": "5b46d51b-3b29-4648-9689-0f13d105078b",
   "metadata": {},
   "outputs": [],
   "source": []
  }
 ],
 "metadata": {
  "kernelspec": {
   "display_name": "Python 3 (ipykernel)",
   "language": "python",
   "name": "python3"
  },
  "language_info": {
   "codemirror_mode": {
    "name": "ipython",
    "version": 3
   },
   "file_extension": ".py",
   "mimetype": "text/x-python",
   "name": "python",
   "nbconvert_exporter": "python",
   "pygments_lexer": "ipython3",
   "version": "3.12.6"
  }
 },
 "nbformat": 4,
 "nbformat_minor": 5
}
